{
 "cells": [
  {
   "cell_type": "code",
   "execution_count": 2,
   "id": "422124da",
   "metadata": {},
   "outputs": [],
   "source": [
    "using Primes"
   ]
  },
  {
   "cell_type": "code",
   "execution_count": 3,
   "id": "b2a6f1ae",
   "metadata": {},
   "outputs": [
    {
     "data": {
      "text/plain": [
       "95962097"
      ]
     },
     "execution_count": 3,
     "metadata": {},
     "output_type": "execute_result"
    }
   ],
   "source": [
    "function tetr(a, b, m)\n",
    "    if b == 0 return 1 end\n",
    "    return powermod(a, tetr(a, b - 1, Primes.totient(m)), m)\n",
    "end\n",
    "\n",
    "tetr(1777, 1855, 10^8)"
   ]
  },
  {
   "cell_type": "code",
   "execution_count": null,
   "id": "a3d4db70",
   "metadata": {},
   "outputs": [],
   "source": []
  }
 ],
 "metadata": {
  "kernelspec": {
   "display_name": "Julia 1.8.5",
   "language": "julia",
   "name": "julia-1.8"
  },
  "language_info": {
   "file_extension": ".jl",
   "mimetype": "application/julia",
   "name": "julia",
   "version": "1.8.5"
  }
 },
 "nbformat": 4,
 "nbformat_minor": 5
}
