{
 "cells": [
  {
   "cell_type": "code",
   "execution_count": 3,
   "id": "41194e6b",
   "metadata": {},
   "outputs": [
    {
     "name": "stdout",
     "output_type": "stream",
     "text": [
      "127035954683\n"
     ]
    }
   ],
   "source": [
    "d = Dict()\n",
    "z = Dict()\n",
    "i = 0\n",
    "l = 0\n",
    "r = -1\n",
    "while true\n",
    "    k = String(sort(collect(string(i ^ 3))))\n",
    "    if length(k) != l\n",
    "        l = length(k)\n",
    "        empty!(d)\n",
    "    end\n",
    "    if haskey(d, k)\n",
    "        d[k] += 1\n",
    "        if d[k] == 5\n",
    "            r = k\n",
    "            break\n",
    "        end\n",
    "    else\n",
    "        z[k] = i\n",
    "        d[k] = 1\n",
    "    end\n",
    "    i += 1\n",
    "end\n",
    "\n",
    "println(z[r] ^ 3)"
   ]
  },
  {
   "cell_type": "code",
   "execution_count": null,
   "id": "ca2e0863",
   "metadata": {},
   "outputs": [],
   "source": []
  }
 ],
 "metadata": {
  "kernelspec": {
   "display_name": "Julia 1.8.5",
   "language": "julia",
   "name": "julia-1.8"
  },
  "language_info": {
   "file_extension": ".jl",
   "mimetype": "application/julia",
   "name": "julia",
   "version": "1.8.5"
  }
 },
 "nbformat": 4,
 "nbformat_minor": 5
}
